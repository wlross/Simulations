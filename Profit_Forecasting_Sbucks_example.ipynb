{
 "cells": [
  {
   "cell_type": "code",
   "execution_count": 28,
   "metadata": {},
   "outputs": [],
   "source": [
    "# Import necessary modules\n",
    "import numpy as np\n",
    "from numpy.random import *\n",
    "import matplotlib.pyplot as plt\n",
    "import pandas as pd"
   ]
  },
  {
   "cell_type": "code",
   "execution_count": 2,
   "metadata": {},
   "outputs": [],
   "source": [
    "# Known Data for the problem\n",
    "PreSeasonPortion = 0.60\n",
    "PreSeasonPrice = 1.50\n",
    "\n",
    "FixedCosts = 100000000\n",
    "RoastingCapacity = 200000000\n",
    "\n",
    "RoastingCost = 4.30\n",
    "\n",
    "Price = 13.00\n",
    "\n",
    "DemandIntercept = 600000000\n",
    "DemandSlope = 25000000"
   ]
  },
  {
   "cell_type": "markdown",
   "metadata": {},
   "source": [
    "### The following code builds the base model, using fixed values for the uncertain quantities. "
   ]
  },
  {
   "cell_type": "code",
   "execution_count": 25,
   "metadata": {},
   "outputs": [
    {
     "data": {
      "text/plain": [
       "1939122284.7564526"
      ]
     },
     "execution_count": 25,
     "metadata": {},
     "output_type": "execute_result"
    }
   ],
   "source": [
    "#Demand=DemandIntercept-DemandSlope*Price\n",
    "\n",
    "def getProfit(MarkPrice,RoastCost):\n",
    "    # Calculate demand as a function of price\n",
    "    Demand = np.random.uniform(.8,1.2)*(DemandIntercept - DemandSlope*Price)\n",
    "\n",
    "    # Determine the number of beans we will purchase pre-season, and the number in the open market\n",
    "    BeansPreSeason = PreSeasonPortion*Demand\n",
    "    BeansOpenMarket = (1 - PreSeasonPortion)*Demand\n",
    "\n",
    "    # Compute the amount of beans we will roast in-house, and the amount we will out-source\n",
    "    RoastedInHouse = min(Demand, RoastingCapacity)\n",
    "    RoastedOutside = max(Demand - RoastedInHouse, 0)\n",
    "\n",
    "    # Compute revenue\n",
    "    Revenue = Demand*Price\n",
    "\n",
    "    # Choose fixed values for uncertain quantities for now  2.5, 5.5\n",
    "    OpenMarketPrice = MarkPrice\n",
    "    OutsourcedRoastingCost = RoastCost\n",
    "\n",
    "    # Compute costs\n",
    "    SourcingCosts = PreSeasonPrice*BeansPreSeason + OpenMarketPrice*BeansOpenMarket\n",
    "    RoastingCosts = RoastingCost*RoastedInHouse + OutsourcedRoastingCost*RoastedOutside\n",
    "    TotalCost = FixedCosts + SourcingCosts + RoastingCosts\n",
    "\n",
    "    # Compute profit\n",
    "    Profit = Revenue - TotalCost\n",
    "    return Profit\n",
    "\n",
    "    # Print expected profit\n",
    "getProfit(2.5,5.5)"
   ]
  },
  {
   "cell_type": "code",
   "execution_count": 26,
   "metadata": {},
   "outputs": [
    {
     "name": "stdout",
     "output_type": "stream",
     "text": [
      "1726065945.5386217\n",
      "193894544.27521577\n"
     ]
    }
   ],
   "source": [
    "NumTrials = 1000\n",
    "ExampleHolder = np.zeros(NumTrials)\n",
    "for i in range(len(ExampleHolder)):\n",
    "    PricesList = np.random.triangular(.5, 2.5, 3) \n",
    "    RoastCostList = np.random.normal(5.5,.4)\n",
    "    ExampleHolder[i] = getProfit(PricesList,RoastCostList)\n",
    "print(np.average(ExampleHolder))\n",
    "print(np.std(ExampleHolder))\n",
    "\n"
   ]
  },
  {
   "cell_type": "code",
   "execution_count": 24,
   "metadata": {},
   "outputs": [
    {
     "name": "stdout",
     "output_type": "stream",
     "text": [
      "0.17900000000000005\n"
     ]
    }
   ],
   "source": [
    "ProbLessOnePointEight = (ExampleHolder <= 1800000000).sum()/NumTrials\n",
    "print(1-ProbLessOnePointEight)"
   ]
  },
  {
   "cell_type": "code",
   "execution_count": 34,
   "metadata": {},
   "outputs": [
    {
     "name": "stdout",
     "output_type": "stream",
     "text": [
      "[]\n"
     ]
    }
   ],
   "source": [
    "HistoricalPrices = pd.read_csv(\"HistoricalPrices.csv\", index_col=0) \n",
    "HistPrices = list(HistoricalPrices)\n",
    "print(HistPrices)\n",
    "#np.random.choice(, p=[0.1, 0, 0.3, 0.6, 0])"
   ]
  },
  {
   "cell_type": "code",
   "execution_count": null,
   "metadata": {},
   "outputs": [],
   "source": []
  }
 ],
 "metadata": {
  "kernelspec": {
   "display_name": "Python 3",
   "language": "python",
   "name": "python3"
  },
  "language_info": {
   "codemirror_mode": {
    "name": "ipython",
    "version": 3
   },
   "file_extension": ".py",
   "mimetype": "text/x-python",
   "name": "python",
   "nbconvert_exporter": "python",
   "pygments_lexer": "ipython3",
   "version": "3.7.3"
  }
 },
 "nbformat": 4,
 "nbformat_minor": 2
}
